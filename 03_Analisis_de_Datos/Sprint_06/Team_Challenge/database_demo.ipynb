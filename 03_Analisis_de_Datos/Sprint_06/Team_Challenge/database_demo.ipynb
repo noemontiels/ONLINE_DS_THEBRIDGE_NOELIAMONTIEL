{
 "cells": [
  {
   "cell_type": "markdown",
   "metadata": {},
   "source": [
    "## **TABLAS**\n",
    "1. proveedores\n",
    "* proveedor_id (INT, PRIMARY KEY, AUTO_INCREMENT)\n",
    "* nombre (TEXT)\n",
    "* direccion (TEXT)\n",
    "* ciudad (TEXT)\n",
    "* provincia (TEXT)\n",
    "* codigo_proveedor (TEXT, UNIQUE)\n",
    "\n",
    "2. categorias\n",
    "* categoria_id (INT, PRIMARY KEY, AUTO_INCREMENT)\n",
    "* nombre (TEXT)\n",
    "* codigo_categoria (TEXT, UNIQUE)\n",
    "\n",
    "3. piezas\n",
    "* pieza_id (INT, PRIMARY KEY, AUTO_INCREMENT)\n",
    "* codigo_pieza (TEXT, UNIQUE)\n",
    "* nombre (TEXT)\n",
    "* color (TEXT)\n",
    "* precio (FLOAT)\n",
    "* categoria_id (INT, FOREIGN KEY, REF: categorias(categoria_id))\n",
    "\n",
    "4. suministros\n",
    "* suministro_id (INT, PRIMARY KEY, AUTO_INCREMENT)\n",
    "* proveedor_id (INT, FOREIGN KEY, REF: proveedores(proveedor_id))\n",
    "* pieza_id (INT, FOREIGN KEY, REF: piezas(pieza_id))\n",
    "* fecha (DATE)\n",
    "* cantidad (INT)"
   ]
  },
  {
   "cell_type": "markdown",
   "metadata": {},
   "source": [
    "## **RELACIONES**\n",
    "\n",
    "1. Proveedores pueden suministrar varias piezas en diferentes fechas, asi que existe una relacion ***1 to many*** between **proveedores** y **suministros**.\n",
    "\n",
    "2. Una pieza puede ser suministrada por varios proveedores, asi que existe una relacion ***1 to many*** entre **piezas** y **suministros**.\n",
    "Un proveedor puede suministrar varias piezas también --> relación **N:M**\n",
    "\n",
    "3. Cada pieza pertenece a una categoria, asi que existe una relacion ***1 to many*** entre **categorias** y **piezas**.\n",
    "\n",
    "4. Suministros **N:M**\n",
    "\n",
    "Tablas de proveedores y categorías quedan en los extremos, suministros y piezas quedan en medio.\n"
   ]
  },
  {
   "cell_type": "code",
   "execution_count": 22,
   "metadata": {},
   "outputs": [],
   "source": [
    "import pandas as pd\n",
    "import sqlite3\n",
    "from datetime import date"
   ]
  },
  {
   "cell_type": "code",
   "execution_count": 23,
   "metadata": {},
   "outputs": [],
   "source": [
    "# Connection and functions\n",
    "\n",
    "conn = sqlite3.connect('./data/proveedores_piezas.db')\n",
    "cursor = conn.cursor()\n",
    "\n",
    "sqlq = lambda query, connection = conn: pd.read_sql(query, connection)"
   ]
  },
  {
   "cell_type": "code",
   "execution_count": 24,
   "metadata": {},
   "outputs": [],
   "source": [
    "cursor.execute('SELECT name FROM sqlite_master WHERE type=\"table\" AND name != \"sqlite_sequence\"')\n",
    "tables = cursor.fetchall()\n",
    "\n",
    "for table_name in tables:\n",
    "    cursor.execute(f'DROP TABLE IF EXISTS {table_name[0]}')\n",
    "\n",
    "conn.commit()\n",
    "# conn.close()"
   ]
  },
  {
   "cell_type": "code",
   "execution_count": 25,
   "metadata": {},
   "outputs": [
    {
     "data": {
      "text/html": [
       "<div>\n",
       "<style scoped>\n",
       "    .dataframe tbody tr th:only-of-type {\n",
       "        vertical-align: middle;\n",
       "    }\n",
       "\n",
       "    .dataframe tbody tr th {\n",
       "        vertical-align: top;\n",
       "    }\n",
       "\n",
       "    .dataframe thead th {\n",
       "        text-align: right;\n",
       "    }\n",
       "</style>\n",
       "<table border=\"1\" class=\"dataframe\">\n",
       "  <thead>\n",
       "    <tr style=\"text-align: right;\">\n",
       "      <th></th>\n",
       "      <th>name</th>\n",
       "    </tr>\n",
       "  </thead>\n",
       "  <tbody>\n",
       "    <tr>\n",
       "      <th>0</th>\n",
       "      <td>sqlite_sequence</td>\n",
       "    </tr>\n",
       "  </tbody>\n",
       "</table>\n",
       "</div>"
      ],
      "text/plain": [
       "              name\n",
       "0  sqlite_sequence"
      ]
     },
     "execution_count": 25,
     "metadata": {},
     "output_type": "execute_result"
    }
   ],
   "source": [
    "sqlq('SELECT name FROM sqlite_master Where type=\"table\"')"
   ]
  },
  {
   "cell_type": "markdown",
   "metadata": {},
   "source": [
    "### 1. Creación de tablas"
   ]
  },
  {
   "cell_type": "code",
   "execution_count": 26,
   "metadata": {},
   "outputs": [
    {
     "data": {
      "text/plain": [
       "<sqlite3.Cursor at 0x1c3e120f140>"
      ]
     },
     "execution_count": 26,
     "metadata": {},
     "output_type": "execute_result"
    }
   ],
   "source": [
    "cursor.execute(''' \n",
    "CREATE TABLE IF NOT EXISTS proveedores (\n",
    "    proveedor_id INTEGER PRIMARY KEY AUTOINCREMENT,\n",
    "    nombre TEXT NOT NULL,\n",
    "    direccion TEXT,\n",
    "    ciudad TEXT,\n",
    "    provincia TEXT,\n",
    "    codigo_proveedor TEXT UNIQUE NOT NULL\n",
    ")\n",
    "''')"
   ]
  },
  {
   "cell_type": "code",
   "execution_count": 27,
   "metadata": {},
   "outputs": [
    {
     "data": {
      "text/plain": [
       "<sqlite3.Cursor at 0x1c3e120f140>"
      ]
     },
     "execution_count": 27,
     "metadata": {},
     "output_type": "execute_result"
    }
   ],
   "source": [
    "cursor.execute('''\n",
    "CREATE TABLE IF NOT EXISTS suministros (\n",
    "    suminstros_id INTEGER PRIMARY KEY AUTOINCREMENT,\n",
    "    proveedor_id INTEGER,\n",
    "    pieza_id INTEGER,\n",
    "    fecha DATETIME,\n",
    "    cantidad INTEGER NOT NULL,\n",
    "    FOREIGN KEY (proveedor_id) REFERENCES proveedores(proveedor_id)\n",
    "    FOREIGN KEY (pieza_id) REFERENCES piezas(pieza_id) \n",
    ")\n",
    "''')"
   ]
  },
  {
   "cell_type": "code",
   "execution_count": 28,
   "metadata": {},
   "outputs": [
    {
     "data": {
      "text/plain": [
       "<sqlite3.Cursor at 0x1c3e120f140>"
      ]
     },
     "execution_count": 28,
     "metadata": {},
     "output_type": "execute_result"
    }
   ],
   "source": [
    "cursor.execute('''\n",
    "CREATE TABLE IF NOT EXISTS piezas (\n",
    "    pieza_id INTEGER PRIMARY KEY AUTOINCREMENT,\n",
    "    codigo_pieza TEXT UNIQUE NOT NULL,\n",
    "    nombre TEXT NOT NULL,\n",
    "    color TEXT,\n",
    "    precio FLOAT,\n",
    "    categoria_id INTEGER,\n",
    "    FOREIGN KEY (categoria_id) REFERENCES categorias(categoria_id)\n",
    ")\n",
    "''')"
   ]
  },
  {
   "cell_type": "code",
   "execution_count": 29,
   "metadata": {},
   "outputs": [
    {
     "data": {
      "text/plain": [
       "<sqlite3.Cursor at 0x1c3e120f140>"
      ]
     },
     "execution_count": 29,
     "metadata": {},
     "output_type": "execute_result"
    }
   ],
   "source": [
    "cursor.execute('''\n",
    "CREATE TABLE IF NOT EXISTS categorias (\n",
    "    categoria_id INTEGER PRIMARY KEY AUTOINCREMENT,\n",
    "    nombre TEXT NOT NULL,\n",
    "    codigo_categoria TEXT UNIQUE NOT NULL\n",
    ")\n",
    "''')"
   ]
  },
  {
   "cell_type": "markdown",
   "metadata": {},
   "source": [
    "### 2. Inlcusión de datos en tablas"
   ]
  },
  {
   "cell_type": "code",
   "execution_count": 30,
   "metadata": {},
   "outputs": [
    {
     "data": {
      "text/plain": [
       "<sqlite3.Cursor at 0x1c3e120f140>"
      ]
     },
     "execution_count": 30,
     "metadata": {},
     "output_type": "execute_result"
    }
   ],
   "source": [
    "prov_data = [\n",
    "    ('Proveedor A', 'Calle Madrid', 'Madrid', 'Madrid', 'PROV1'),\n",
    "    ('Proveedor B', 'Calle Barna', 'Barcelona', 'Barcelona', 'PROV2'),\n",
    "    ('Proveedor C', 'Calle San Pío X', 'Valencia', 'Valencia', 'PROV3'),\n",
    "    ('Proveedor D', 'Calle Estafeta', 'Pamplona', 'Navarra', 'PROV4'),\n",
    "    ('Proveedor E', 'Calle Laurel', 'Logroño', 'Logroño', 'PROV5')\n",
    "]\n",
    "cursor.executemany(''' \n",
    "INSERT INTO proveedores (nombre, direccion, ciudad, provincia, codigo_proveedor)\n",
    "VALUES (?,?,?,?,?) -- Marcador de posición para los valores que serán insertados en la tabla \n",
    "''', prov_data)"
   ]
  },
  {
   "cell_type": "code",
   "execution_count": 31,
   "metadata": {},
   "outputs": [
    {
     "data": {
      "text/plain": [
       "<sqlite3.Cursor at 0x1c3e120f140>"
      ]
     },
     "execution_count": 31,
     "metadata": {},
     "output_type": "execute_result"
    }
   ],
   "source": [
    "cat_data = [\n",
    "    ('Vino', '001'),\n",
    "    ('Distillado', '002')\n",
    "]\n",
    "cursor.executemany('''\n",
    "INSERT INTO categorias (nombre, codigo_categoria)\n",
    "VALUES (?,?) -- Marcador de posición para los valores que serán insertados en la tabla \n",
    "''', cat_data)"
   ]
  },
  {
   "cell_type": "code",
   "execution_count": 32,
   "metadata": {},
   "outputs": [
    {
     "data": {
      "text/plain": [
       "<sqlite3.Cursor at 0x1c3e120f140>"
      ]
     },
     "execution_count": 32,
     "metadata": {},
     "output_type": "execute_result"
    }
   ],
   "source": [
    "pieza_data = [\n",
    "    ('P1', 'Sotovelo', 'Blanco', 20.50, '001'),\n",
    "    ('P2', '10 Mil Botellas', 'Ambar', 80.70, '002'),\n",
    "    ('P3', 'Domus Aurea', 'Tinto', 15.50, '001'),\n",
    "    ('P4', 'Mar de Frades', 'Blanco', 20.50, '002'),\n",
    "    ('P5', 'Ron Havana Selección de Maestros', 'Ambar', 65.50, '001')\n",
    "\n",
    "]\n",
    "cursor.executemany(''' \n",
    "INSERT INTO piezas (codigo_pieza, nombre, color, precio, categoria_id)\n",
    "VALUES (?,?,?,?,?) -- Marcador de posición para los valores que serán insertados en la tabla \n",
    "''', pieza_data)"
   ]
  },
  {
   "cell_type": "code",
   "execution_count": 33,
   "metadata": {},
   "outputs": [],
   "source": [
    "sumin_data = [\n",
    "    (1, 1, '2024-07-01', 120),\n",
    "    (2, 2, '2024-07-02', 30),\n",
    "    (3, 3, '2024-08-05', 50),\n",
    "    (4, 3, '2024-07-09', 20),\n",
    "    (5, 5, '2024-12-07', 100),\n",
    "    (5, 4, '2024-06-05', 120),    \n",
    "    (5, 2, '2024-08-01', 150),\n",
    "    (5, 1, '2024-11-02', 80),\n",
    "    (5, 2, '2024-10-10', 90)    \n",
    "]\n",
    "cursor.executemany('''\n",
    "INSERT INTO suministros (proveedor_id, pieza_id, fecha, cantidad)\n",
    "VALUES (?,?,?,?) -- Marcador de posición para los valores que serán insertados en la tabla \n",
    "''', sumin_data)\n",
    "conn.commit()"
   ]
  },
  {
   "cell_type": "code",
   "execution_count": 34,
   "metadata": {},
   "outputs": [
    {
     "data": {
      "text/html": [
       "<div>\n",
       "<style scoped>\n",
       "    .dataframe tbody tr th:only-of-type {\n",
       "        vertical-align: middle;\n",
       "    }\n",
       "\n",
       "    .dataframe tbody tr th {\n",
       "        vertical-align: top;\n",
       "    }\n",
       "\n",
       "    .dataframe thead th {\n",
       "        text-align: right;\n",
       "    }\n",
       "</style>\n",
       "<table border=\"1\" class=\"dataframe\">\n",
       "  <thead>\n",
       "    <tr style=\"text-align: right;\">\n",
       "      <th></th>\n",
       "      <th>type</th>\n",
       "      <th>name</th>\n",
       "      <th>tbl_name</th>\n",
       "      <th>rootpage</th>\n",
       "      <th>sql</th>\n",
       "    </tr>\n",
       "  </thead>\n",
       "  <tbody>\n",
       "    <tr>\n",
       "      <th>0</th>\n",
       "      <td>table</td>\n",
       "      <td>sqlite_sequence</td>\n",
       "      <td>sqlite_sequence</td>\n",
       "      <td>4</td>\n",
       "      <td>CREATE TABLE sqlite_sequence(name,seq)</td>\n",
       "    </tr>\n",
       "    <tr>\n",
       "      <th>1</th>\n",
       "      <td>table</td>\n",
       "      <td>proveedores</td>\n",
       "      <td>proveedores</td>\n",
       "      <td>2</td>\n",
       "      <td>CREATE TABLE proveedores (\\n    proveedor_id I...</td>\n",
       "    </tr>\n",
       "    <tr>\n",
       "      <th>2</th>\n",
       "      <td>table</td>\n",
       "      <td>suministros</td>\n",
       "      <td>suministros</td>\n",
       "      <td>6</td>\n",
       "      <td>CREATE TABLE suministros (\\n    suminstros_id ...</td>\n",
       "    </tr>\n",
       "    <tr>\n",
       "      <th>3</th>\n",
       "      <td>table</td>\n",
       "      <td>piezas</td>\n",
       "      <td>piezas</td>\n",
       "      <td>7</td>\n",
       "      <td>CREATE TABLE piezas (\\n    pieza_id INTEGER PR...</td>\n",
       "    </tr>\n",
       "    <tr>\n",
       "      <th>4</th>\n",
       "      <td>table</td>\n",
       "      <td>categorias</td>\n",
       "      <td>categorias</td>\n",
       "      <td>9</td>\n",
       "      <td>CREATE TABLE categorias (\\n    categoria_id IN...</td>\n",
       "    </tr>\n",
       "  </tbody>\n",
       "</table>\n",
       "</div>"
      ],
      "text/plain": [
       "    type             name         tbl_name  rootpage  \\\n",
       "0  table  sqlite_sequence  sqlite_sequence         4   \n",
       "1  table      proveedores      proveedores         2   \n",
       "2  table      suministros      suministros         6   \n",
       "3  table           piezas           piezas         7   \n",
       "4  table       categorias       categorias         9   \n",
       "\n",
       "                                                 sql  \n",
       "0             CREATE TABLE sqlite_sequence(name,seq)  \n",
       "1  CREATE TABLE proveedores (\\n    proveedor_id I...  \n",
       "2  CREATE TABLE suministros (\\n    suminstros_id ...  \n",
       "3  CREATE TABLE piezas (\\n    pieza_id INTEGER PR...  \n",
       "4  CREATE TABLE categorias (\\n    categoria_id IN...  "
      ]
     },
     "execution_count": 34,
     "metadata": {},
     "output_type": "execute_result"
    }
   ],
   "source": [
    "sqlq('SELECT * FROM sqlite_master WHERE type == \"table\"')"
   ]
  },
  {
   "cell_type": "code",
   "execution_count": 35,
   "metadata": {},
   "outputs": [
    {
     "data": {
      "text/html": [
       "<div>\n",
       "<style scoped>\n",
       "    .dataframe tbody tr th:only-of-type {\n",
       "        vertical-align: middle;\n",
       "    }\n",
       "\n",
       "    .dataframe tbody tr th {\n",
       "        vertical-align: top;\n",
       "    }\n",
       "\n",
       "    .dataframe thead th {\n",
       "        text-align: right;\n",
       "    }\n",
       "</style>\n",
       "<table border=\"1\" class=\"dataframe\">\n",
       "  <thead>\n",
       "    <tr style=\"text-align: right;\">\n",
       "      <th></th>\n",
       "      <th>proveedor_id</th>\n",
       "      <th>nombre</th>\n",
       "      <th>direccion</th>\n",
       "      <th>ciudad</th>\n",
       "      <th>provincia</th>\n",
       "      <th>codigo_proveedor</th>\n",
       "    </tr>\n",
       "  </thead>\n",
       "  <tbody>\n",
       "    <tr>\n",
       "      <th>0</th>\n",
       "      <td>1</td>\n",
       "      <td>Proveedor A</td>\n",
       "      <td>Calle Madrid</td>\n",
       "      <td>Madrid</td>\n",
       "      <td>Madrid</td>\n",
       "      <td>PROV1</td>\n",
       "    </tr>\n",
       "    <tr>\n",
       "      <th>1</th>\n",
       "      <td>2</td>\n",
       "      <td>Proveedor B</td>\n",
       "      <td>Calle Barna</td>\n",
       "      <td>Barcelona</td>\n",
       "      <td>Barcelona</td>\n",
       "      <td>PROV2</td>\n",
       "    </tr>\n",
       "    <tr>\n",
       "      <th>2</th>\n",
       "      <td>3</td>\n",
       "      <td>Proveedor C</td>\n",
       "      <td>Calle San Pío X</td>\n",
       "      <td>Valencia</td>\n",
       "      <td>Valencia</td>\n",
       "      <td>PROV3</td>\n",
       "    </tr>\n",
       "    <tr>\n",
       "      <th>3</th>\n",
       "      <td>4</td>\n",
       "      <td>Proveedor D</td>\n",
       "      <td>Calle Estafeta</td>\n",
       "      <td>Pamplona</td>\n",
       "      <td>Navarra</td>\n",
       "      <td>PROV4</td>\n",
       "    </tr>\n",
       "    <tr>\n",
       "      <th>4</th>\n",
       "      <td>5</td>\n",
       "      <td>Proveedor E</td>\n",
       "      <td>Calle Laurel</td>\n",
       "      <td>Logroño</td>\n",
       "      <td>Logroño</td>\n",
       "      <td>PROV5</td>\n",
       "    </tr>\n",
       "  </tbody>\n",
       "</table>\n",
       "</div>"
      ],
      "text/plain": [
       "   proveedor_id       nombre        direccion     ciudad  provincia  \\\n",
       "0             1  Proveedor A     Calle Madrid     Madrid     Madrid   \n",
       "1             2  Proveedor B      Calle Barna  Barcelona  Barcelona   \n",
       "2             3  Proveedor C  Calle San Pío X   Valencia   Valencia   \n",
       "3             4  Proveedor D   Calle Estafeta   Pamplona    Navarra   \n",
       "4             5  Proveedor E     Calle Laurel    Logroño    Logroño   \n",
       "\n",
       "  codigo_proveedor  \n",
       "0            PROV1  \n",
       "1            PROV2  \n",
       "2            PROV3  \n",
       "3            PROV4  \n",
       "4            PROV5  "
      ]
     },
     "execution_count": 35,
     "metadata": {},
     "output_type": "execute_result"
    }
   ],
   "source": [
    "sqlq('SELECT * FROM proveedores')"
   ]
  },
  {
   "cell_type": "code",
   "execution_count": 36,
   "metadata": {},
   "outputs": [
    {
     "data": {
      "text/html": [
       "<div>\n",
       "<style scoped>\n",
       "    .dataframe tbody tr th:only-of-type {\n",
       "        vertical-align: middle;\n",
       "    }\n",
       "\n",
       "    .dataframe tbody tr th {\n",
       "        vertical-align: top;\n",
       "    }\n",
       "\n",
       "    .dataframe thead th {\n",
       "        text-align: right;\n",
       "    }\n",
       "</style>\n",
       "<table border=\"1\" class=\"dataframe\">\n",
       "  <thead>\n",
       "    <tr style=\"text-align: right;\">\n",
       "      <th></th>\n",
       "      <th>categoria_id</th>\n",
       "      <th>nombre</th>\n",
       "      <th>codigo_categoria</th>\n",
       "    </tr>\n",
       "  </thead>\n",
       "  <tbody>\n",
       "    <tr>\n",
       "      <th>0</th>\n",
       "      <td>1</td>\n",
       "      <td>Vino</td>\n",
       "      <td>001</td>\n",
       "    </tr>\n",
       "    <tr>\n",
       "      <th>1</th>\n",
       "      <td>2</td>\n",
       "      <td>Distillado</td>\n",
       "      <td>002</td>\n",
       "    </tr>\n",
       "  </tbody>\n",
       "</table>\n",
       "</div>"
      ],
      "text/plain": [
       "   categoria_id      nombre codigo_categoria\n",
       "0             1        Vino              001\n",
       "1             2  Distillado              002"
      ]
     },
     "execution_count": 36,
     "metadata": {},
     "output_type": "execute_result"
    }
   ],
   "source": [
    "sqlq('SELECT * FROM categorias')"
   ]
  },
  {
   "cell_type": "code",
   "execution_count": 37,
   "metadata": {},
   "outputs": [
    {
     "data": {
      "text/html": [
       "<div>\n",
       "<style scoped>\n",
       "    .dataframe tbody tr th:only-of-type {\n",
       "        vertical-align: middle;\n",
       "    }\n",
       "\n",
       "    .dataframe tbody tr th {\n",
       "        vertical-align: top;\n",
       "    }\n",
       "\n",
       "    .dataframe thead th {\n",
       "        text-align: right;\n",
       "    }\n",
       "</style>\n",
       "<table border=\"1\" class=\"dataframe\">\n",
       "  <thead>\n",
       "    <tr style=\"text-align: right;\">\n",
       "      <th></th>\n",
       "      <th>pieza_id</th>\n",
       "      <th>codigo_pieza</th>\n",
       "      <th>nombre</th>\n",
       "      <th>color</th>\n",
       "      <th>precio</th>\n",
       "      <th>categoria_id</th>\n",
       "    </tr>\n",
       "  </thead>\n",
       "  <tbody>\n",
       "    <tr>\n",
       "      <th>0</th>\n",
       "      <td>1</td>\n",
       "      <td>P1</td>\n",
       "      <td>Sotovelo</td>\n",
       "      <td>Blanco</td>\n",
       "      <td>20.5</td>\n",
       "      <td>1</td>\n",
       "    </tr>\n",
       "    <tr>\n",
       "      <th>1</th>\n",
       "      <td>2</td>\n",
       "      <td>P2</td>\n",
       "      <td>10 Mil Botellas</td>\n",
       "      <td>Ambar</td>\n",
       "      <td>80.7</td>\n",
       "      <td>2</td>\n",
       "    </tr>\n",
       "    <tr>\n",
       "      <th>2</th>\n",
       "      <td>3</td>\n",
       "      <td>P3</td>\n",
       "      <td>Domus Aurea</td>\n",
       "      <td>Tinto</td>\n",
       "      <td>15.5</td>\n",
       "      <td>1</td>\n",
       "    </tr>\n",
       "    <tr>\n",
       "      <th>3</th>\n",
       "      <td>4</td>\n",
       "      <td>P4</td>\n",
       "      <td>Mar de Frades</td>\n",
       "      <td>Blanco</td>\n",
       "      <td>20.5</td>\n",
       "      <td>2</td>\n",
       "    </tr>\n",
       "    <tr>\n",
       "      <th>4</th>\n",
       "      <td>5</td>\n",
       "      <td>P5</td>\n",
       "      <td>Ron Havana Selección de Maestros</td>\n",
       "      <td>Ambar</td>\n",
       "      <td>65.5</td>\n",
       "      <td>1</td>\n",
       "    </tr>\n",
       "  </tbody>\n",
       "</table>\n",
       "</div>"
      ],
      "text/plain": [
       "   pieza_id codigo_pieza                            nombre   color  precio  \\\n",
       "0         1           P1                          Sotovelo  Blanco    20.5   \n",
       "1         2           P2                   10 Mil Botellas   Ambar    80.7   \n",
       "2         3           P3                       Domus Aurea   Tinto    15.5   \n",
       "3         4           P4                     Mar de Frades  Blanco    20.5   \n",
       "4         5           P5  Ron Havana Selección de Maestros   Ambar    65.5   \n",
       "\n",
       "   categoria_id  \n",
       "0             1  \n",
       "1             2  \n",
       "2             1  \n",
       "3             2  \n",
       "4             1  "
      ]
     },
     "execution_count": 37,
     "metadata": {},
     "output_type": "execute_result"
    }
   ],
   "source": [
    "sqlq('SELECT * FROM piezas')"
   ]
  },
  {
   "cell_type": "code",
   "execution_count": 38,
   "metadata": {},
   "outputs": [
    {
     "data": {
      "text/html": [
       "<div>\n",
       "<style scoped>\n",
       "    .dataframe tbody tr th:only-of-type {\n",
       "        vertical-align: middle;\n",
       "    }\n",
       "\n",
       "    .dataframe tbody tr th {\n",
       "        vertical-align: top;\n",
       "    }\n",
       "\n",
       "    .dataframe thead th {\n",
       "        text-align: right;\n",
       "    }\n",
       "</style>\n",
       "<table border=\"1\" class=\"dataframe\">\n",
       "  <thead>\n",
       "    <tr style=\"text-align: right;\">\n",
       "      <th></th>\n",
       "      <th>suminstros_id</th>\n",
       "      <th>proveedor_id</th>\n",
       "      <th>pieza_id</th>\n",
       "      <th>fecha</th>\n",
       "      <th>cantidad</th>\n",
       "    </tr>\n",
       "  </thead>\n",
       "  <tbody>\n",
       "    <tr>\n",
       "      <th>0</th>\n",
       "      <td>1</td>\n",
       "      <td>1</td>\n",
       "      <td>1</td>\n",
       "      <td>2024-07-01</td>\n",
       "      <td>120</td>\n",
       "    </tr>\n",
       "    <tr>\n",
       "      <th>1</th>\n",
       "      <td>2</td>\n",
       "      <td>2</td>\n",
       "      <td>2</td>\n",
       "      <td>2024-07-02</td>\n",
       "      <td>30</td>\n",
       "    </tr>\n",
       "    <tr>\n",
       "      <th>2</th>\n",
       "      <td>3</td>\n",
       "      <td>3</td>\n",
       "      <td>3</td>\n",
       "      <td>2024-08-05</td>\n",
       "      <td>50</td>\n",
       "    </tr>\n",
       "    <tr>\n",
       "      <th>3</th>\n",
       "      <td>4</td>\n",
       "      <td>4</td>\n",
       "      <td>3</td>\n",
       "      <td>2024-07-09</td>\n",
       "      <td>20</td>\n",
       "    </tr>\n",
       "    <tr>\n",
       "      <th>4</th>\n",
       "      <td>5</td>\n",
       "      <td>5</td>\n",
       "      <td>5</td>\n",
       "      <td>2024-12-07</td>\n",
       "      <td>100</td>\n",
       "    </tr>\n",
       "    <tr>\n",
       "      <th>5</th>\n",
       "      <td>6</td>\n",
       "      <td>5</td>\n",
       "      <td>4</td>\n",
       "      <td>2024-06-05</td>\n",
       "      <td>120</td>\n",
       "    </tr>\n",
       "    <tr>\n",
       "      <th>6</th>\n",
       "      <td>7</td>\n",
       "      <td>5</td>\n",
       "      <td>2</td>\n",
       "      <td>2024-08-01</td>\n",
       "      <td>150</td>\n",
       "    </tr>\n",
       "    <tr>\n",
       "      <th>7</th>\n",
       "      <td>8</td>\n",
       "      <td>5</td>\n",
       "      <td>1</td>\n",
       "      <td>2024-11-02</td>\n",
       "      <td>80</td>\n",
       "    </tr>\n",
       "    <tr>\n",
       "      <th>8</th>\n",
       "      <td>9</td>\n",
       "      <td>5</td>\n",
       "      <td>2</td>\n",
       "      <td>2024-10-10</td>\n",
       "      <td>90</td>\n",
       "    </tr>\n",
       "  </tbody>\n",
       "</table>\n",
       "</div>"
      ],
      "text/plain": [
       "   suminstros_id  proveedor_id  pieza_id       fecha  cantidad\n",
       "0              1             1         1  2024-07-01       120\n",
       "1              2             2         2  2024-07-02        30\n",
       "2              3             3         3  2024-08-05        50\n",
       "3              4             4         3  2024-07-09        20\n",
       "4              5             5         5  2024-12-07       100\n",
       "5              6             5         4  2024-06-05       120\n",
       "6              7             5         2  2024-08-01       150\n",
       "7              8             5         1  2024-11-02        80\n",
       "8              9             5         2  2024-10-10        90"
      ]
     },
     "execution_count": 38,
     "metadata": {},
     "output_type": "execute_result"
    }
   ],
   "source": [
    "sqlq('SELECT * FROM suministros')"
   ]
  },
  {
   "cell_type": "markdown",
   "metadata": {},
   "source": [
    "### 3. Demo queries"
   ]
  },
  {
   "cell_type": "code",
   "execution_count": 39,
   "metadata": {},
   "outputs": [
    {
     "data": {
      "text/html": [
       "<div>\n",
       "<style scoped>\n",
       "    .dataframe tbody tr th:only-of-type {\n",
       "        vertical-align: middle;\n",
       "    }\n",
       "\n",
       "    .dataframe tbody tr th {\n",
       "        vertical-align: top;\n",
       "    }\n",
       "\n",
       "    .dataframe thead th {\n",
       "        text-align: right;\n",
       "    }\n",
       "</style>\n",
       "<table border=\"1\" class=\"dataframe\">\n",
       "  <thead>\n",
       "    <tr style=\"text-align: right;\">\n",
       "      <th></th>\n",
       "      <th>cantidad</th>\n",
       "      <th>fecha</th>\n",
       "      <th>nombre_pieza</th>\n",
       "      <th>precio</th>\n",
       "      <th>nombre</th>\n",
       "      <th>codigo_proveedor</th>\n",
       "    </tr>\n",
       "  </thead>\n",
       "  <tbody>\n",
       "    <tr>\n",
       "      <th>0</th>\n",
       "      <td>30</td>\n",
       "      <td>2024-07-02</td>\n",
       "      <td>10 Mil Botellas</td>\n",
       "      <td>80.7</td>\n",
       "      <td>Distillado</td>\n",
       "      <td>PROV2</td>\n",
       "    </tr>\n",
       "    <tr>\n",
       "      <th>1</th>\n",
       "      <td>100</td>\n",
       "      <td>2024-12-07</td>\n",
       "      <td>Ron Havana Selección de Maestros</td>\n",
       "      <td>65.5</td>\n",
       "      <td>Vino</td>\n",
       "      <td>PROV5</td>\n",
       "    </tr>\n",
       "    <tr>\n",
       "      <th>2</th>\n",
       "      <td>120</td>\n",
       "      <td>2024-06-05</td>\n",
       "      <td>Mar de Frades</td>\n",
       "      <td>20.5</td>\n",
       "      <td>Distillado</td>\n",
       "      <td>PROV5</td>\n",
       "    </tr>\n",
       "    <tr>\n",
       "      <th>3</th>\n",
       "      <td>150</td>\n",
       "      <td>2024-08-01</td>\n",
       "      <td>10 Mil Botellas</td>\n",
       "      <td>80.7</td>\n",
       "      <td>Distillado</td>\n",
       "      <td>PROV5</td>\n",
       "    </tr>\n",
       "    <tr>\n",
       "      <th>4</th>\n",
       "      <td>90</td>\n",
       "      <td>2024-10-10</td>\n",
       "      <td>10 Mil Botellas</td>\n",
       "      <td>80.7</td>\n",
       "      <td>Distillado</td>\n",
       "      <td>PROV5</td>\n",
       "    </tr>\n",
       "  </tbody>\n",
       "</table>\n",
       "</div>"
      ],
      "text/plain": [
       "   cantidad       fecha                      nombre_pieza  precio      nombre  \\\n",
       "0        30  2024-07-02                   10 Mil Botellas    80.7  Distillado   \n",
       "1       100  2024-12-07  Ron Havana Selección de Maestros    65.5        Vino   \n",
       "2       120  2024-06-05                     Mar de Frades    20.5  Distillado   \n",
       "3       150  2024-08-01                   10 Mil Botellas    80.7  Distillado   \n",
       "4        90  2024-10-10                   10 Mil Botellas    80.7  Distillado   \n",
       "\n",
       "  codigo_proveedor  \n",
       "0            PROV2  \n",
       "1            PROV5  \n",
       "2            PROV5  \n",
       "3            PROV5  \n",
       "4            PROV5  "
      ]
     },
     "execution_count": 39,
     "metadata": {},
     "output_type": "execute_result"
    }
   ],
   "source": [
    "query = '''\n",
    "SELECT \n",
    "        A.cantidad, A.fecha,\n",
    "        B.nombre 'nombre_pieza', B.precio,\n",
    "        C.nombre,\n",
    "        D.codigo_proveedor\n",
    "        \n",
    "FROM suministros AS A\n",
    "JOIN piezas AS B ON A.pieza_id = B.pieza_id\n",
    "JOIN categorias AS C ON B.categoria_id = C.categoria_id\n",
    "JOIN proveedores AS D ON A.proveedor_id = D.proveedor_id\n",
    "\n",
    "WHERE nombre_pieza LIKE \"Mar de Frades\"\n",
    "OR precio > 50\n",
    "'''\n",
    "\n",
    "sqlq(query)"
   ]
  },
  {
   "cell_type": "code",
   "execution_count": 40,
   "metadata": {},
   "outputs": [
    {
     "data": {
      "text/html": [
       "<div>\n",
       "<style scoped>\n",
       "    .dataframe tbody tr th:only-of-type {\n",
       "        vertical-align: middle;\n",
       "    }\n",
       "\n",
       "    .dataframe tbody tr th {\n",
       "        vertical-align: top;\n",
       "    }\n",
       "\n",
       "    .dataframe thead th {\n",
       "        text-align: right;\n",
       "    }\n",
       "</style>\n",
       "<table border=\"1\" class=\"dataframe\">\n",
       "  <thead>\n",
       "    <tr style=\"text-align: right;\">\n",
       "      <th></th>\n",
       "      <th>cantidad</th>\n",
       "      <th>fecha</th>\n",
       "      <th>nombre</th>\n",
       "      <th>precio</th>\n",
       "    </tr>\n",
       "  </thead>\n",
       "  <tbody>\n",
       "    <tr>\n",
       "      <th>0</th>\n",
       "      <td>120</td>\n",
       "      <td>2024-07-01</td>\n",
       "      <td>Sotovelo</td>\n",
       "      <td>20.5</td>\n",
       "    </tr>\n",
       "    <tr>\n",
       "      <th>1</th>\n",
       "      <td>50</td>\n",
       "      <td>2024-08-05</td>\n",
       "      <td>Domus Aurea</td>\n",
       "      <td>15.5</td>\n",
       "    </tr>\n",
       "    <tr>\n",
       "      <th>2</th>\n",
       "      <td>20</td>\n",
       "      <td>2024-07-09</td>\n",
       "      <td>Domus Aurea</td>\n",
       "      <td>15.5</td>\n",
       "    </tr>\n",
       "    <tr>\n",
       "      <th>3</th>\n",
       "      <td>100</td>\n",
       "      <td>2024-12-07</td>\n",
       "      <td>Ron Havana Selección de Maestros</td>\n",
       "      <td>65.5</td>\n",
       "    </tr>\n",
       "    <tr>\n",
       "      <th>4</th>\n",
       "      <td>120</td>\n",
       "      <td>2024-06-05</td>\n",
       "      <td>Mar de Frades</td>\n",
       "      <td>20.5</td>\n",
       "    </tr>\n",
       "    <tr>\n",
       "      <th>5</th>\n",
       "      <td>150</td>\n",
       "      <td>2024-08-01</td>\n",
       "      <td>10 Mil Botellas</td>\n",
       "      <td>80.7</td>\n",
       "    </tr>\n",
       "    <tr>\n",
       "      <th>6</th>\n",
       "      <td>90</td>\n",
       "      <td>2024-10-10</td>\n",
       "      <td>10 Mil Botellas</td>\n",
       "      <td>80.7</td>\n",
       "    </tr>\n",
       "  </tbody>\n",
       "</table>\n",
       "</div>"
      ],
      "text/plain": [
       "   cantidad       fecha                            nombre  precio\n",
       "0       120  2024-07-01                          Sotovelo    20.5\n",
       "1        50  2024-08-05                       Domus Aurea    15.5\n",
       "2        20  2024-07-09                       Domus Aurea    15.5\n",
       "3       100  2024-12-07  Ron Havana Selección de Maestros    65.5\n",
       "4       120  2024-06-05                     Mar de Frades    20.5\n",
       "5       150  2024-08-01                   10 Mil Botellas    80.7\n",
       "6        90  2024-10-10                   10 Mil Botellas    80.7"
      ]
     },
     "execution_count": 40,
     "metadata": {},
     "output_type": "execute_result"
    }
   ],
   "source": [
    "query = '''\n",
    "SELECT \n",
    "        A.cantidad, A.fecha,\n",
    "        B.nombre, B.precio\n",
    "        \n",
    "FROM suministros AS A\n",
    "JOIN piezas AS B ON A.pieza_id = B.pieza_id\n",
    "\n",
    "WHERE (B.nombre LIKE \"Domus Aurea\")\n",
    "OR (A.cantidad > 80)\n",
    "'''\n",
    "\n",
    "sqlq(query)"
   ]
  },
  {
   "cell_type": "code",
   "execution_count": 41,
   "metadata": {},
   "outputs": [],
   "source": [
    "conn.commit()\n",
    "conn.close()"
   ]
  }
 ],
 "metadata": {
  "kernelspec": {
   "display_name": "Python 3",
   "language": "python",
   "name": "python3"
  },
  "language_info": {
   "codemirror_mode": {
    "name": "ipython",
    "version": 3
   },
   "file_extension": ".py",
   "mimetype": "text/x-python",
   "name": "python",
   "nbconvert_exporter": "python",
   "pygments_lexer": "ipython3",
   "version": "3.12.4"
  }
 },
 "nbformat": 4,
 "nbformat_minor": 2
}
