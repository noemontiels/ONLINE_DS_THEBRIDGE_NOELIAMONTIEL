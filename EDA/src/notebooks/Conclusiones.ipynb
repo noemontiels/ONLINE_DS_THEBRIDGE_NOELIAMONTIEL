{
 "cells": [
  {
   "cell_type": "markdown",
   "metadata": {},
   "source": [
    "## CONCLUSIONES 1"
   ]
  },
  {
   "cell_type": "markdown",
   "metadata": {},
   "source": [
    "### Conclusiones finales"
   ]
  },
  {
   "cell_type": "markdown",
   "metadata": {},
   "source": [
    "1. **Perfiles demandados**:\n",
    "\n",
    "    - Data Engineer y Data Scientist con experiencia de al menos 5 años (Senior) son los más demandados.\n",
    "\n",
    "2. **Oferta de empleo por países**:\n",
    "\n",
    "    - Estados Unidos es el país con más ofertas de empleo en el entorno de datos.\n",
    "\n",
    "3. **Modalidad de trabajo**:\n",
    "\n",
    "    - La mayoría de los empleos son a tiempo completo y presenciales, seguidos del trabajo a distancia. El trabajo híbrido es menos frecuente.   \n",
    "\n",
    "4. **Tamaño de la empresa**:\n",
    "\n",
    "    - Las empresas medianas (50-250 empleados) son las que más demandan este tipo de empleados y también las que mejor pagan de media.\n",
    "\n",
    "5. **Crecimiento de la demanda**:\n",
    "\n",
    "    - La demanda de puestos de trabajo en el entorno de los datos ha crecido exponencialmente desde 2020, posiblemente influida por acontecimientos como Covid-19 y la quiebra del Silicon Valley Bank en 2023.\n",
    "\n",
    "6. **Salarios generales**:\n",
    "\n",
    "    - La mayoría de los puestos de trabajo ofrecen salarios de entre 80.000 y 180.000 dólares al año.\n",
    "\n",
    "7. **Comparación salarial internacional**:\n",
    "\n",
    "    - Israel y Qatar tienen los salarios medios más altos, que rondan los 300.000 dólares.   \n",
    "\n",
    "    - Estados Unidos, Puerto Rico y Nueva Zelanda ofrecen salarios medios en torno a 155.000 dólares.\n",
    "\n",
    "    - Los salarios en Israel presentan una gran variabilidad, mientras que Qatar muestra salarios altos con menos dispersión, posiblemente debido a la escasa oferta de mano de obra.\n",
    "\n",
    "    - Otros países con salarios medios-altos son Australia y Arabia Saudí.\n",
    "\n",
    "8. **Salarios por residencia y modo de trabajo**:\n",
    "\n",
    "    - Los empleados que trabajan 100% presencialmente o a distancia tienen salarios medios más altos que los que tienen un tipo de trabajo híbrido.\n",
    "\n",
    "    - Los empleos a tiempo completo están mejor pagados de media en comparación con los autónomos.\n",
    "\n",
    "9. **Crecimiento salarial**:\n",
    "\n",
    "    - El salario medio ha aumentado casi un 60% desde 2020 hasta la actualidad.\n",
    "\n",
    "10. **Demanda vs Residencia**:\n",
    "\n",
    "    - A lo largo del tiempo, se ha producido una discrepancia entre los 10 países con mayor número de empresas demandantes de puestos de trabajo de datos y los 10 países donde viven más empleados dedicados a estos puestos. Esto puede deberse a la estrategia de las empresas de contratar en países con un menor coste de la vida o a la movilidad de los empleados a países más baratos.<>\n",
    "\n",
    "    - Sin embargo, este año 2024 la residencia de los trabajadores sí coincide más con la ubicación de las sedes de las empresas, probablemente debido a la vuelta al trabajo presencial post-Covid.\n",
    "\n",
    "11. **Áreas y categorías laborales mejor pagadas**:\n",
    "\n",
    "    - Aprendizaje automático e IA, Ciencia de datos e investigación, y Liderazgo y gestión ofrecen los salarios más altos.\n",
    "\n",
    "    - Las categorías de Análisis de Datos y Calidad de Datos y Operaciones tienden a ofrecer salarios más bajos.\n",
    "\n",
    "    - La categoría Nube y Base de Datos muestra una buena remuneración media con baja variabilidad en los salarios.\n",
    "\n",
    "12. **Demanda por país y tamaño de empresa**:\n",
    "\n",
    "    - En la mayoría de los países, las categorías laborales más demandadas son Ciencia e Investigación de Datos, Ingeniería de Datos, Aprendizaje Automático e IA y Análisis de Datos.\n",
    "\n",
    "    - Las medianas empresas son las que más demandan este tipo de empleados, excepto en India.\n",
    "\n",
    "    - Los perfiles más demandados en casi todos los países son de junior a senior (de 6 a 10 años de experiencia), con menor demanda de perfiles expertos.\n",
    "\n",
    "13. **Impacto de la caída del Banco de Silicon Valley**:\n",
    "\n",
    "    - En 2023 se produjo el mayor auge de puestos de trabajo en este sector, y en 2024 se registró un crecimiento en países como Australia, Canadá y Estados Unidos, pero un escaso crecimiento o incluso un descenso de la oferta en el resto. La caída del Silicon Valley Bank en 2023 puede haber influido.\n"
   ]
  },
  {
   "cell_type": "markdown",
   "metadata": {},
   "source": [
    "### Evaluación de la Hipótesis: 'Estados Unidos es el mejor país para trabajar en el entorno de datos'\n",
    "\n",
    "La hipótesis de que Estados Unidos es el mejor país para trabajar en el entorno de datos es evidente pero no concluyente según estas conclusiones:\n",
    "\n",
    "- Pros:\n",
    "\n",
    "    - Estados Unidos tiene la mayor oferta laboral en el entorno de datos.\n",
    "    - Ofrece salarios medianos altos ($155k) y una distribución salarial relativamente uniforme.\n",
    "    - Hay un crecimiento exponencial en la demanda de estos empleos desde 2020.\n",
    "\n",
    "- Contras:\n",
    "\n",
    "    - Países como Israel y Qatar tienen salarios medianos más altos (alrededor de $300k).\n",
    "    - Otros países también ofrecen salarios competitivos y pueden tener menores costos de vida.\n",
    "    - La modalidad de trabajo en Estados Unidos es mayormente presencial, lo cual podría ser una desventaja comparada con la flexibilidad en otros países.\n",
    "\n",
    "\n",
    "Por lo tanto, aunque Estados Unidos es un lugar destacado para trabajar en el entorno de datos debido a la alta oferta laboral y buenos salarios, otros países pueden ofrecer condiciones salariales superiores, lo que hace que la afirmación sea cierta pero matizable."
   ]
  },
  {
   "cell_type": "markdown",
   "metadata": {},
   "source": [
    "## CONCLUSIONES 2"
   ]
  },
  {
   "cell_type": "markdown",
   "metadata": {},
   "source": [
    "#### 1. Univariable\n",
    "\n",
    "- La mayoría de los puestos de trabajo pagan entre **80.000 y 120.000 dólares al año**.\n",
    "\n",
    "- Los perfiles más demandados son **Científicos de datos**.\n",
    "\n",
    "- **Nueva York y San Francisco** son las ciudades que más ofertas de empleo tienen en este sector.\n",
    "\n",
    "- El estado de **California** es el que publica más ofertas de empleo. Probablemente tenga algo que ver con la proximidad a Silicon Valley.\n",
    "\n",
    "- Por lo general, la región del **noroeste** es la que más ofertas de empleo publica.\n",
    "\n",
    "- La mayoría de las empresas que requieren este perfil de profesionales son **pequeñas (menos de 200 empleados)**.\n",
    "\n",
    "- Casi la mitad de las ofertas de empleo son para perfiles dedicados a **'Ciencia de datos e investigación'**.\n",
    "\n",
    "- El 75% de los trabajos en USA están valorados en por encima de un 3.5 sobre 5, dejando ver que es un país en el que trabajar en este sector está bien valorado y tiene buenas condiciones."
   ]
  },
  {
   "cell_type": "markdown",
   "metadata": {},
   "source": [
    "#### 2. Conclusiones salario:\n",
    "\n",
    "- El salario medio es más alto para los empleados con un trabajo relacionado con **'Aprendizaje automático e IA', seguido de 'Aprendizaje automático e investigación'** y aquellos con trabajos relacionados con los sectores de **'Medios de comunicación', 'Biotecnología y farmacéutica' y 'Contabilidad y legal'**, ganando de media unos 120.000 dólares al año.\n",
    "\n",
    "- La región **Oeste**, concretamente el estado de **California**, es la que paga los salarios más altos a sus empleados.\n",
    "\n",
    "- Las empresas que ofrecen los salarios más altos a estos profesionales son las que más ganan (más de 10.000 millones de dólares) o, curiosamente, las que menos (hasta 5 millones de dólares)."
   ]
  },
  {
   "cell_type": "markdown",
   "metadata": {},
   "source": [
    "#### 3. Conclusiones boxplots\n",
    "\n",
    "- **'Information Technology', 'Biotech & Pharmaceuticals', and 'Telecommunications'** son sectores lucrativos con **salarios altos y variados**, mientras que **'Educación' y 'Medios de comunicación' ofrecen sueldos más bajos pero más constantes**.\n",
    "\n",
    "- 'Contabilidad y Legal' ofrecen un salario muy alto, pero hay poca demanda.\n",
    "\n",
    "- **California e Illinois** destacan con **sueldos altos y variados**, mientras que Kentucky y Virginia muestran sueldos más bajos y constantes. Otros estados como Nueva York, Massachusetts y Nueva Jersey ofrecen salarios moderados con rangos variables.\n",
    "\n",
    "- Las regiones **Oeste y Noreste** destacan con **salarios altos y variados**, mientras que las regiones Suroeste y Sureste muestran salarios más bajos y constantes. El Medio Oeste ofrece salarios moderados con una horquilla bastante amplia.\n",
    "\n",
    "- La **ciencia de los datos y la investigación**, así como el **aprendizaje automático y la IA**, ofrecen los **sueldos medios más altos**. Las funciones de liderazgo y gestión también ofrecen una amplia gama de salarios, lo que indica variabilidad en función de la experiencia o la empresa. Las funciones de 'Análisis de datos y BI' y 'Visualización' suelen tener salarios más bajos y constantes."
   ]
  },
  {
   "cell_type": "markdown",
   "metadata": {},
   "source": [
    "#### 4. Conclusiones salario:\n",
    "\n",
    "- El salario medio es más alto para los empleados con un trabajo relacionado con **'Aprendizaje automático e IA', seguido de 'Aprendizaje automático e investigación'** y aquellos con trabajos relacionados con los sectores de **'Medios de comunicación', 'Biotecnología y farmacéutica' y 'Contabilidad y legal'**, ganando de media unos 120.000 dólares al año.\n",
    "\n",
    "- La región **Oeste**, concretamente el estado de **California**, es la que paga los salarios más altos a sus empleados.\n",
    "\n",
    "- Las empresas que ofrecen los salarios más altos a estos profesionales son las que más ganan (más de 10.000 millones de dólares) o, curiosamente, las que menos (hasta 5 millones de dólares)."
   ]
  },
  {
   "cell_type": "markdown",
   "metadata": {},
   "source": [
    "#### 5. Conclusiones por región\n",
    "\n",
    "- En todas las regiones, el tamaño predominante de empresa que requiere estos profesionales es la **pequeña empresa**.\n",
    "\n",
    "- En todas las regiones, el empleo más demandado corresponde a la categoría de «Ciencia de datos e investigación», aunque esta conclusión no puede extrapolarse al conjunto de la población.\n",
    "\n",
    "- El gráfico muestra que el noreste lidera en «Biotecnología y productos farmacéuticos», el sureste en «Aeroespacial y defensa», «Servicios empresariales», «Educación y fabricación», mientras que «Tecnología de la información» y «Comercio minorista» están bien distribuidos, pero destacan en el noreste y el oeste.\n",
    "\n",
    "- Estas observaciones indican que determinadas industrias tienen una mayor concentración en regiones específicas, lo que podría estar **relacionado con factores económicos, educativos y logísticos propios de cada región**.\n",
    "\n",
    "- El gráfico muestra que, en todas las regiones de EE.UU., las empresas con ingresos medios («M») tienen la frecuencia más alta, mientras que las empresas con ingresos extrapequeños («XS») tienen la representación más baja."
   ]
  },
  {
   "cell_type": "markdown",
   "metadata": {},
   "source": [
    "#### 5. Conclusiones por valoración\n",
    "\n",
    "- 'Royce Geospatial', destaca como la empresa mejor valorada con una puntuación perfecta de 5,0. Fundada en 2014, esta empresa aeroespacial y de defensa ofrece un salario medio de 101.000 dólares para el puesto de científico de datos en Virginia. Su excelente puntuación sugiere una alta satisfacción de los empleados y una reputación positiva en el sector.\n",
    "\n",
    "- La región con la mejor valoración media es la del centro-oeste, mientras que la del noreste ocupa el último lugar.\n",
    "\n",
    "- El sector mejor valorado es «Agricultura y silvicultura», que sorprendentemente no coincide con el mejor pagado (de hecho, ni siquiera figura entre los 10 mejor pagados).\n",
    "\n",
    "- Las empresas mejor valoradas tienen los beneficios anuales más bajos.\n",
    "\n",
    "- Las empresas mejor valoradas son las más pequeñas, lo que coincide con el hecho de que también tienen los beneficios anuales más bajos."
   ]
  },
  {
   "cell_type": "markdown",
   "metadata": {},
   "source": [
    "#### 6. Conclusiones por salario y valoración\n",
    "\n",
    "- Los puestos mejor valorados no se corresponden con los mejor pagados. Esto sugiere que los empleados también valoran otros factores como, quizá, la flexibilidad horaria, las opciones de crecimiento dentro de la empresa, etc."
   ]
  },
  {
   "cell_type": "markdown",
   "metadata": {},
   "source": [
    "### Conclusiones finales"
   ]
  },
  {
   "cell_type": "markdown",
   "metadata": {},
   "source": [
    "1. **Rango salarial y valoración del trabajo**:\n",
    "\n",
    "    - La mayoría de los puestos en el sector pagan entre 80.000 y 120.000 dólares al año.   \n",
    "\n",
    "    - Los trabajos relacionados con 'Aprendizaje automático e IA' tienen los salarios más altos, seguidos por 'Aprendizaje automático e investigación' y sectores como 'Biotecnología y farmacéutica' y 'Contabilidad y legal'.\n",
    "    - El 75% de los trabajos en EE.UU. están valorados por encima de un 3.5 sobre 5, indicando buenas condiciones laborales.\n",
    "\n",
    "2. **Demandas y ofertas de empleo**:\n",
    "\n",
    "    - Los Científicos de datos son los perfiles más demandados.\n",
    "\n",
    "    - La región del noroeste y el estado de California concretamente, publican la mayor cantidad de ofertas de empleo, con San Francisco destacando debido a su proximidad a Silicon Valley.\n",
    "\n",
    "    - Nueva York y San Francisco son las ciudades con más ofertas en este sector.\n",
    "\n",
    "    - Las empresas que buscan estos perfiles suelen ser pequeñas (menos de 200 empleados).\n",
    "\n",
    "3. **Salarios por región y tamaño de empresa**:\n",
    "\n",
    "    - La región Oeste, y especialmente el estado de California, ofrece los salarios más altos.   \n",
    "\n",
    "    - Las empresas con ingresos muy altos (más de 10.000 millones de dólares) o muy bajos (hasta 5 millones de dólares) ofrecen los salarios más altos en este sector.\n",
    "\n",
    "    - La región noreste tiene una alta concentración de empleos en biotecnología y farmacéutica, mientras que otras regiones tienen concentraciones en diferentes sectores como aeroespacial, defensa, y educación.\n",
    "\n",
    "4. **Tipos de trabajos y condiciones laborales**:\n",
    "\n",
    "    - Los trabajos en 'Ciencia de datos e investigación' y 'Aprendizaje automático' son los más demandados.   \n",
    "\n",
    "    - Los puestos mejor valorados no siempre son los mejor pagados, sugiriendo que factores como flexibilidad horaria y oportunidades de crecimiento también son importantes para los empleados.\n"
   ]
  },
  {
   "cell_type": "markdown",
   "metadata": {},
   "source": [
    "**California, y en particular San Francisco y Los Ángeles**, es el mejor estado y región para trabajar en el sector de ciencia de datos y aprendizaje automático. Esto se debe a varias razones:\n",
    "\n",
    "- **Altos Salarios**: California ofrece los salarios más altos, especialmente en áreas cercanas a Silicon Valley, que es un centro tecnológico importante.   \n",
    "\n",
    "- **Cantidad de ofertas**: Es el estado que publica la mayor cantidad de ofertas de empleo en este sector, indicando una alta demanda de profesionales.\n",
    "\n",
    "- **Concentración de empresas**: La región tiene una alta concentración de empresas tecnológicas y de investigación, proporcionando múltiples oportunidades laborales.\n",
    "\n",
    "En resumen, California se destaca tanto por sus altos salarios como por la abundancia de oportunidades en el campo de la ciencia de datos y el aprendizaje automático."
   ]
  },
  {
   "cell_type": "markdown",
   "metadata": {},
   "source": [
    "## Conclusión general\n",
    "\n",
    "1. **Dominio de Estados Unidos en el mercado laboral**:   \n",
    "\n",
    "Estados Unidos es el país con la mayor cantidad de ofertas de empleo en el sector de ciencia de datos. El crecimiento exponencial en la demanda de estos roles desde 2020, combinado con una alta valoración general del trabajo en este campo, subraya la prominencia de EEUU como el principal destino para profesionales de datos. En particular, California se presenta como la región líder, ofreciendo los salarios más altos y la mayor concentración de oportunidades laborales debido a la proximidad a Silicon Valley.\n",
    "\n",
    "2. **Salarios y valoración del trabajo**:   \n",
    "\n",
    "Aunque el rango salarial en EEUU para el sector de datos se encuentra entre 80.000 y 120.000 dólares anuales, se resalta que en otros países, como Israel y Qatar, los salarios pueden ser significativamente más altos. Sin embargo, EEUU ofrece una buena combinación de altos salarios y una valoración positiva del entorno laboral. Los trabajos relacionados con 'Aprendizaje automático e IA' y 'Ciencia de datos e investigación' tienen los salarios más altos, lo que refleja la importancia de estas áreas en la industria.\n",
    "\n",
    "3. **Modalidad de trabajo y tamaño de empresa**:   \n",
    "\n",
    "En EEUU, el trabajo a tiempo completo y presencial es predominante, mientras que las empresas pequeñas (menos de 200 empleados) son las que más demandan estos perfiles. Este patrón se repite, indicando que, a pesar del aumento en la oferta de trabajo a distancia, la preferencia sigue siendo por roles presenciales. Esto contrasta con la tendencia internacional, donde algunos países ofrecen una mayor flexibilidad en la modalidad de trabajo.\n",
    "\n",
    "4. **Distribución regional y sectorial**:   \n",
    "\n",
    "California, y en particular ciudades como San Francisco y Los Ángeles, se destacan como los lugares más importantes en EEUU para el sector de ciencia de datos debido a la alta concentración de empresas tecnológicas y la oferta de empleo. La región Oeste de EEUU lidera en términos de salarios y oportunidades laborales. Aunque otros países como Qatar e Israel presentan salarios superiores, California sigue siendo preferible debido a la combinación de alta demanda, oportunidades variadas y salarios competitivos.\n",
    "\n",
    "5. **Valoración del trabajo**:   \n",
    "\n",
    "A pesar de los altos salarios, los puestos mejor valorados no siempre coinciden con los mejor pagados. En EEUU, se valora positivamente la calidad del entorno laboral y las oportunidades de crecimiento, aunque la modalidad de trabajo en EEUU es en su mayoría presencial, mientras que en otros países puede ofrecerse mayor flexibilidad.\n",
    "\n",
    "## Conclusión Final:   \n",
    "\n",
    "California emerge como la región más destacada para trabajar en ciencia de datos y aprendizaje automático, combinando altos salarios, una abundante oferta de empleo y una concentración significativa de empresas tecnológicas. Aunque otros países pueden ofrecer salarios más altos, la combinación de factores como la cantidad de ofertas, la calidad del entorno laboral y la presencia de importantes centros tecnológicos hace que California sea el mejor lugar para los profesionales del sector."
   ]
  }
 ],
 "metadata": {
  "kernelspec": {
   "display_name": "Python 3",
   "language": "python",
   "name": "python3"
  },
  "language_info": {
   "name": "python",
   "version": "3.12.4"
  }
 },
 "nbformat": 4,
 "nbformat_minor": 2
}
