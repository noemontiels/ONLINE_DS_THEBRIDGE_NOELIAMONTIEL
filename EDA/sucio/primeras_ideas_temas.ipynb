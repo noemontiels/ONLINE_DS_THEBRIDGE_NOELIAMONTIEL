{
 "cells": [
  {
   "cell_type": "markdown",
   "metadata": {},
   "source": [
    "### **TEMAS PROPUESTOS EDA**"
   ]
  },
  {
   "cell_type": "markdown",
   "metadata": {},
   "source": [
    "### 1.- **Impacto del cambio climático en la agricultura**\n",
    "\n",
    "**Fuentes de datos**:\n",
    "- Kaggle: Climate Change   \n",
    " \n",
    "- FAO: Food and Agriculture Data   \n",
    "\n",
    "**Resumen**:\n",
    "\n",
    "- **Preguntas a responder**:\n",
    "\n",
    "    - ¿Cómo han influido las variaciones en la temperatura y las precipitaciones en los rendimientos de los cultivos principales en las diferentes regiones del mundo?\n",
    "\n",
    "    - ¿Han disminuido los rendimientos de los cultivos principales en las regiones más afectadas?   \n",
    "\n",
    "- **Objetivo**: Analizar cómo el cambio climático ha afectado la producción agrícola en diferentes regiones del mundo.   \n",
    "\n",
    "- **EDA**:\n",
    "    - Explora la tendencia de temperaturas y precipitaciones en distintas regiones a lo largo de los años.   \n",
    "    \n",
    "    - Relaciona estos cambios con los rendimientos agrícolas de cultivos clave.\n",
    "    - Visualiza los datos utilizando gráficos de líneas, mapas de calor y scatter plots.\n",
    "    - Identifica correlaciones y patrones entre variables climáticas y agrícolas.\n",
    "- **Potencial para ML**:\n",
    "    - Predicciones: Predecir el rendimiento de cultivos basado en condiciones climáticas futuras."
   ]
  },
  {
   "cell_type": "markdown",
   "metadata": {},
   "source": [
    "### 2.- **Análisis del impacto de la pandemia en el mercado inmobiliario**\n",
    "\n",
    "**Fuentes de datos**:\n",
    "- Zillow: Real Estate Data  \n",
    " \n",
    "- Kaggle: Real Estate Prices  \n",
    "\n",
    "**Resumen**:\n",
    "\n",
    "- **Preguntas a responder**:   \n",
    "\n",
    "    - ¿Cómo ha afectado la pandemia de COVID-19 a los precios y la demanda de propiedades inmobiliarias en diferentes regiones?   \n",
    "\n",
    "    - ¿Han aumentado los precios de las propiedades inmobiliarias en ciertas regiones durante la pandemia de COVID-19?\n",
    "\n",
    "- **Objetivo**: Estudiar cómo la pandemia de COVID-19 ha influido en los precios y la demanda del mercado inmobiliario.\n",
    "\n",
    "- **EDA**:\n",
    "    - Analiza los cambios en los precios de viviendas antes, durante y después de la pandemia.\n",
    "    \n",
    "    - Examina la variación en la demanda de diferentes tipos de propiedades (residenciales, comerciales).\n",
    "    - Visualiza los datos mediante gráficos de líneas, barras y mapas de calor.\n",
    "    - Identifica tendencias y patrones significativos.\n",
    "- **Potencial para ML**:\n",
    "    - Predecir futuras tendencias de precios inmobiliarios basado en datos históricos y factores macroeconómicos."
   ]
  },
  {
   "cell_type": "markdown",
   "metadata": {},
   "source": [
    "### 3.- **Análisis de la calidad del aire en grandes ciudades**\n",
    "\n",
    "**Fuentes de datos**:\n",
    "- Kaggle: Air Quality Data  \n",
    " \n",
    "- OpenAQ: Air Quality Data \n",
    "\n",
    "**Resumen**:\n",
    "\n",
    "- **Preguntas a responder**:   \n",
    "\n",
    "    - ¿Qué niveles de contaminación del aire se observan en las grandes ciudades y qué factores externos influyen significativamente en la calidad del aire?   \n",
    "    \n",
    "    - ¿Existe una correlación significativa entre la calidad del aire y factores externos como el tráfico y eventos climáticos?\n",
    "\n",
    "- **Objetivo**: Evaluar la calidad del aire en diversas ciudades y sus impactos en la salud pública.\n",
    "\n",
    "- **EDA**:\n",
    "    - Explora los niveles de contaminantes en el aire (PM2.5, NO2, SO2, etc.) a lo largo del tiempo.\n",
    "    \n",
    "    - Relaciona la calidad del aire con factores externos como el tráfico, industria y eventos climáticos.\n",
    "    - Visualiza los datos mediante gráficos de líneas, mapas de calor y diagramas de caja.\n",
    "    - Identifica patrones y áreas con problemas de contaminación.\n",
    "- **Potencial para ML**:\n",
    "    - Predecir los niveles de contaminación del aire en diferentes zonas y momentos del año."
   ]
  },
  {
   "cell_type": "markdown",
   "metadata": {},
   "source": [
    "### 4.- **Análisis en la oferta y demanda en el mercado laboral en el entorno Data: Salarios y condiciones globales**\n",
    "\n",
    "**Fuentes de datos**:\n",
    "- LinkedIn API para obtener datos de ofertas de empleo.\n",
    " \n",
    "- Kaggle o Glassdoor para datos de perfiles de Data Scientists.\n",
    "\n",
    "- Encuestas de empleo y salarios para profesionales en Data Science.\n",
    "\n",
    "**Resumen**:\n",
    "\n",
    "- **Preguntas a responder**:   \n",
    "\n",
    "    - ¿Existen regiones específicas del mundo donde los Data Scientists tienen mejores salarios y condiciones laborales comparado con otras?   \n",
    "\n",
    "- **Objetivo**: Identificar las regiones del mundo que ofrecen los mejores salarios y condiciones laborales para Data Scientists.\n",
    "\n",
    "- **EDA**:\n",
    "    - Obtener datos de ofertas de empleo disponibles a través de APIs como LinkedIn.\n",
    "    \n",
    "    - Recopilar datos sobre perfiles y habilidades de Data Scientists desde Kaggle o Glassdoor.\n",
    "    - Analizar la distribución geográfica de las ofertas de empleo y de los profesionales en Data Science.\n",
    "    - Comparar los salarios ofrecidos en diferentes regiones y sectores.\n",
    "    - Visualizar tendencias en el salario y las condiciones laborales para Data Scientists globalmente.\n",
    "- **Potencial para ML**:\n",
    "    - Predicciones: Predecir la evolución de los salarios y condiciones laborales para Data Scientists en diferentes partes del mundo.   \n",
    "    \n",
    "    - Modelos de clasificación: Desarrollar modelos para clasificar regiones según la competitividad salarial y las condiciones laborales para Data Scientists."
   ]
  },
  {
   "cell_type": "markdown",
   "metadata": {},
   "source": []
  }
 ],
 "metadata": {
  "kernelspec": {
   "display_name": "Python 3",
   "language": "python",
   "name": "python3"
  },
  "language_info": {
   "codemirror_mode": {
    "name": "ipython",
    "version": 3
   },
   "file_extension": ".py",
   "mimetype": "text/x-python",
   "name": "python",
   "nbconvert_exporter": "python",
   "pygments_lexer": "ipython3",
   "version": "3.12.4"
  }
 },
 "nbformat": 4,
 "nbformat_minor": 2
}
